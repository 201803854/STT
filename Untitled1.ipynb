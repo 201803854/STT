{
 "cells": [
  {
   "cell_type": "code",
   "execution_count": 19,
   "id": "2fcf0a68",
   "metadata": {
    "scrolled": true
   },
   "outputs": [
    {
     "name": "stdout",
     "output_type": "stream",
     "text": [
      "Collecting librosa\n",
      "  Using cached librosa-0.10.0.post2-py3-none-any.whl (253 kB)\n",
      "Collecting audioread>=2.1.9 (from librosa)\n",
      "  Using cached audioread-3.0.0-py3-none-any.whl\n",
      "Requirement already satisfied: numpy!=1.22.0,!=1.22.1,!=1.22.2,>=1.20.3 in c:\\programdata\\anaconda3\\lib\\site-packages (from librosa) (1.24.3)\n",
      "Requirement already satisfied: scipy>=1.2.0 in c:\\programdata\\anaconda3\\lib\\site-packages (from librosa) (1.10.1)\n",
      "Requirement already satisfied: scikit-learn>=0.20.0 in c:\\programdata\\anaconda3\\lib\\site-packages (from librosa) (1.2.2)\n",
      "Requirement already satisfied: joblib>=0.14 in c:\\programdata\\anaconda3\\lib\\site-packages (from librosa) (1.2.0)\n",
      "Requirement already satisfied: decorator>=4.3.0 in c:\\programdata\\anaconda3\\lib\\site-packages (from librosa) (5.1.1)\n",
      "Requirement already satisfied: numba>=0.51.0 in c:\\programdata\\anaconda3\\lib\\site-packages (from librosa) (0.57.0)\n",
      "Collecting soundfile>=0.12.1 (from librosa)\n",
      "  Using cached soundfile-0.12.1-py2.py3-none-win_amd64.whl (1.0 MB)\n",
      "Requirement already satisfied: pooch<1.7,>=1.0 in c:\\programdata\\anaconda3\\lib\\site-packages (from librosa) (1.4.0)\n",
      "Collecting soxr>=0.3.2 (from librosa)\n",
      "  Using cached soxr-0.3.5-cp311-cp311-win_amd64.whl (184 kB)\n",
      "Requirement already satisfied: typing-extensions>=4.1.1 in c:\\programdata\\anaconda3\\lib\\site-packages (from librosa) (4.6.3)\n",
      "Requirement already satisfied: lazy-loader>=0.1 in c:\\programdata\\anaconda3\\lib\\site-packages (from librosa) (0.2)\n",
      "Requirement already satisfied: msgpack>=1.0 in c:\\programdata\\anaconda3\\lib\\site-packages (from librosa) (1.0.3)\n",
      "Requirement already satisfied: llvmlite<0.41,>=0.40.0dev0 in c:\\programdata\\anaconda3\\lib\\site-packages (from numba>=0.51.0->librosa) (0.40.0)\n",
      "Requirement already satisfied: requests in c:\\programdata\\anaconda3\\lib\\site-packages (from pooch<1.7,>=1.0->librosa) (2.29.0)\n",
      "Requirement already satisfied: packaging in c:\\programdata\\anaconda3\\lib\\site-packages (from pooch<1.7,>=1.0->librosa) (23.0)\n",
      "Requirement already satisfied: appdirs in c:\\programdata\\anaconda3\\lib\\site-packages (from pooch<1.7,>=1.0->librosa) (1.4.4)\n",
      "Requirement already satisfied: threadpoolctl>=2.0.0 in c:\\programdata\\anaconda3\\lib\\site-packages (from scikit-learn>=0.20.0->librosa) (2.2.0)\n",
      "Requirement already satisfied: cffi>=1.0 in c:\\programdata\\anaconda3\\lib\\site-packages (from soundfile>=0.12.1->librosa) (1.15.1)\n",
      "Requirement already satisfied: pycparser in c:\\programdata\\anaconda3\\lib\\site-packages (from cffi>=1.0->soundfile>=0.12.1->librosa) (2.21)\n",
      "Requirement already satisfied: charset-normalizer<4,>=2 in c:\\programdata\\anaconda3\\lib\\site-packages (from requests->pooch<1.7,>=1.0->librosa) (2.0.4)\n",
      "Requirement already satisfied: idna<4,>=2.5 in c:\\programdata\\anaconda3\\lib\\site-packages (from requests->pooch<1.7,>=1.0->librosa) (3.4)\n",
      "Requirement already satisfied: urllib3<1.27,>=1.21.1 in c:\\programdata\\anaconda3\\lib\\site-packages (from requests->pooch<1.7,>=1.0->librosa) (1.26.16)\n",
      "Requirement already satisfied: certifi>=2017.4.17 in c:\\programdata\\anaconda3\\lib\\site-packages (from requests->pooch<1.7,>=1.0->librosa) (2023.7.22)\n",
      "Installing collected packages: soxr, audioread, soundfile, librosa\n",
      "Successfully installed audioread-3.0.0 librosa-0.10.0.post2 soundfile-0.12.1 soxr-0.3.5\n",
      "Note: you may need to restart the kernel to use updated packages.\n"
     ]
    }
   ],
   "source": [
    "pip install librosa"
   ]
  },
  {
   "cell_type": "code",
   "execution_count": 4,
   "id": "f427486f",
   "metadata": {},
   "outputs": [
    {
     "name": "stdout",
     "output_type": "stream",
     "text": [
      "Collecting hydra-core\n",
      "  Using cached hydra_core-1.3.2-py3-none-any.whl (154 kB)\n",
      "Collecting omegaconf<2.4,>=2.2 (from hydra-core)\n",
      "  Using cached omegaconf-2.3.0-py3-none-any.whl (79 kB)\n",
      "Collecting antlr4-python3-runtime==4.9.* (from hydra-core)\n",
      "  Using cached antlr4_python3_runtime-4.9.3-py3-none-any.whl\n",
      "Requirement already satisfied: packaging in c:\\programdata\\anaconda3\\lib\\site-packages (from hydra-core) (23.0)\n",
      "Requirement already satisfied: PyYAML>=5.1.0 in c:\\programdata\\anaconda3\\lib\\site-packages (from omegaconf<2.4,>=2.2->hydra-core) (6.0)\n",
      "Installing collected packages: antlr4-python3-runtime, omegaconf, hydra-core\n",
      "Successfully installed antlr4-python3-runtime-4.9.3 hydra-core-1.3.2 omegaconf-2.3.0\n",
      "Note: you may need to restart the kernel to use updated packages.\n"
     ]
    }
   ],
   "source": [
    "pip install hydra-core --upgrade"
   ]
  },
  {
   "cell_type": "code",
   "execution_count": 1,
   "id": "fddefaea",
   "metadata": {},
   "outputs": [
    {
     "ename": "ModuleNotFoundError",
     "evalue": "No module named 'warp_rnnt'",
     "output_type": "error",
     "traceback": [
      "\u001b[1;31m---------------------------------------------------------------------------\u001b[0m",
      "\u001b[1;31mModuleNotFoundError\u001b[0m                       Traceback (most recent call last)",
      "Cell \u001b[1;32mIn[1], line 10\u001b[0m\n\u001b[0;32m      8\u001b[0m \u001b[38;5;28;01mimport\u001b[39;00m \u001b[38;5;21;01mmatplotlib\u001b[39;00m\n\u001b[0;32m      9\u001b[0m \u001b[38;5;28;01mimport\u001b[39;00m \u001b[38;5;21;01mlibrosa\u001b[39;00m\n\u001b[1;32m---> 10\u001b[0m \u001b[38;5;28;01mimport\u001b[39;00m \u001b[38;5;21;01mwarp_rnnt\u001b[39;00m\n",
      "\u001b[1;31mModuleNotFoundError\u001b[0m: No module named 'warp_rnnt'"
     ]
    }
   ],
   "source": [
    "import numpy\n",
    "import torch\n",
    "import torch.nn as nn\n",
    "import torch.nn.functional as F\n",
    "import torchvision\n",
    "import torchvision.transforms as transforms\n",
    "import pandas\n",
    "import matplotlib\n",
    "import librosa\n"
   ]
  },
  {
   "cell_type": "code",
   "execution_count": 2,
   "id": "1d374e66",
   "metadata": {},
   "outputs": [
    {
     "name": "stdout",
     "output_type": "stream",
     "text": [
      "^C\n",
      "\n",
      "Note: you may need to restart the kernel to use updated packages.\n"
     ]
    }
   ],
   "source": [
    "conda install pytorch torchvision torchaudio pytorch-cuda=11.8 -c pytorch -c nvidia\n",
    "python main.py --dataset_path \"H:\\내 드라이브\\2023_STT_project\\data_for_transcript_test\" --vocab_dest \"C:\\Users\\STT\" --output_unit \"character\" --preprocess_mode 'phonetic'"
   ]
  },
  {
   "cell_type": "code",
   "execution_count": 14,
   "id": "6f84cc60",
   "metadata": {
    "scrolled": true
   },
   "outputs": [
    {
     "name": "stdout",
     "output_type": "stream",
     "text": [
      "C:\\Users\\STT\\kospeech-latest\\kospeech-latest\n",
      "[2023-07-25 16:40:10,146][kospeech.utils][INFO] - audio:"
     ]
    },
    {
     "name": "stderr",
     "output_type": "stream",
     "text": [
      "C:\\Users\\STT\\kospeech-latest\\kospeech-latest\\bin\\main.py:158: UserWarning: \n",
      "The version_base parameter is not specified.\n",
      "Please specify a compatability version level, or None.\n",
      "Will assume defaults for version 1.1\n",
      "  @hydra.main(config_path=os.path.join('..', \"configs\"), config_name=\"train\")\n",
      "sys:1: UserWarning: \n",
      "'audio/fbank' is validated against ConfigStore schema with the same name.\n",
      "This behavior is deprecated in Hydra 1.1 and will be removed in Hydra 1.2.\n",
      "See https://hydra.cc/docs/1.2/upgrades/1.0_to_1.1/automatic_schema_matching for migration instructions.\n",
      "sys:1: UserWarning: \n",
      "'model/ds2' is validated against ConfigStore schema with the same name.\n",
      "This behavior is deprecated in Hydra 1.1 and will be removed in Hydra 1.2.\n",
      "See https://hydra.cc/docs/1.2/upgrades/1.0_to_1.1/automatic_schema_matching for migration instructions.\n",
      "sys:1: UserWarning: \n",
      "'train/ds2_train' is validated against ConfigStore schema with the same name.\n",
      "This behavior is deprecated in Hydra 1.1 and will be removed in Hydra 1.2.\n",
      "See https://hydra.cc/docs/1.2/upgrades/1.0_to_1.1/automatic_schema_matching for migration instructions.\n",
      "C:\\ProgramData\\anaconda3\\Lib\\site-packages\\hydra\\main.py:94: UserWarning: \n",
      "'audio/fbank' is validated against ConfigStore schema with the same name.\n",
      "This behavior is deprecated in Hydra 1.1 and will be removed in Hydra 1.2.\n",
      "See https://hydra.cc/docs/1.2/upgrades/1.0_to_1.1/automatic_schema_matching for migration instructions.\n",
      "  _run_hydra(\n",
      "C:\\ProgramData\\anaconda3\\Lib\\site-packages\\hydra\\main.py:94: UserWarning: \n",
      "'model/ds2' is validated against ConfigStore schema with the same name.\n",
      "This behavior is deprecated in Hydra 1.1 and will be removed in Hydra 1.2.\n",
      "See https://hydra.cc/docs/1.2/upgrades/1.0_to_1.1/automatic_schema_matching for migration instructions.\n",
      "  _run_hydra(\n",
      "C:\\ProgramData\\anaconda3\\Lib\\site-packages\\hydra\\main.py:94: UserWarning: \n",
      "'train/ds2_train' is validated against ConfigStore schema with the same name.\n",
      "This behavior is deprecated in Hydra 1.1 and will be removed in Hydra 1.2.\n",
      "See https://hydra.cc/docs/1.2/upgrades/1.0_to_1.1/automatic_schema_matching for migration instructions.\n",
      "  _run_hydra(\n",
      "C:\\ProgramData\\anaconda3\\Lib\\site-packages\\hydra\\_internal\\hydra.py:119: UserWarning: Future Hydra versions will no longer change working directory at job runtime by default.\n",
      "See https://hydra.cc/docs/1.2/upgrades/1.1_to_1.2/changes_to_job_working_dir/ for more information.\n",
      "  ret = run_job(\n",
      "Error executing job with overrides: ['model=ds2', 'train=ds2_train', 'train.dataset_path=C:/Users/STT/data']\n",
      "\n",
      "Traceback (most recent call last):\n",
      "  File \"C:\\ProgramData\\anaconda3\\Lib\\site-packages\\pandas\\io\\formats\\csvs.py\", line 261, in save\n",
      "    self._save()\n",
      "  File \"C:\\ProgramData\\anaconda3\\Lib\\site-packages\\pandas\\io\\formats\\csvs.py\", line 266, in _save\n",
      "    self._save_body()\n",
      "  File \"C:\\ProgramData\\anaconda3\\Lib\\site-packages\\pandas\\io\\formats\\csvs.py\", line 304, in _save_body\n",
      "    self._save_chunk(start_i, end_i)\n",
      "  File \"C:\\ProgramData\\anaconda3\\Lib\\site-packages\\pandas\\io\\formats\\csvs.py\", line 315, in _save_chunk\n",
      "    libwriters.write_csv_rows(\n",
      "  File \"pandas\\_libs\\writers.pyx\", line 72, in pandas._libs.writers.write_csv_rows\n",
      "OSError: [Errno 28] No space left on device\n",
      "\n",
      "During handling of the above exception, another exception occurred:\n",
      "\n",
      "OSError: [Errno 28] No space left on device\n",
      "\n",
      "During handling of the above exception, another exception occurred:\n",
      "\n",
      "Traceback (most recent call last):\n",
      "  File \"C:\\Users\\STT\\kospeech-latest\\kospeech-latest\\bin\\main.py\", line 162, in main\n",
      "    last_model_checkpoint = train(config)\n",
      "                            ^^^^^^^^^^^^^\n",
      "  File \"C:\\Users\\STT\\kospeech-latest\\kospeech-latest\\bin\\main.py\", line 122, in train\n",
      "    model = trainer.train(\n",
      "            ^^^^^^^^^^^^^^\n",
      "  File \"C:\\Users\\STT\\kospeech-latest\\kospeech-latest\\bin\\kospeech\\trainer\\supervised_trainer.py\", line 181, in train\n",
      "    valid_cer = self._validate(model, valid_queue)\n",
      "                ^^^^^^^^^^^^^^^^^^^^^^^^^^^^^^^^^^\n",
      "  File \"C:\\Users\\STT\\kospeech-latest\\kospeech-latest\\bin\\kospeech\\trainer\\supervised_trainer.py\", line 358, in _validate\n",
      "    self._save_result(target_list, predict_list)\n",
      "  File \"C:\\Users\\STT\\kospeech-latest\\kospeech-latest\\bin\\kospeech\\trainer\\supervised_trainer.py\", line 454, in _save_result\n",
      "    results.to_csv(save_path, index=False, encoding='cp949')\n",
      "  File \"C:\\ProgramData\\anaconda3\\Lib\\site-packages\\pandas\\util\\_decorators.py\", line 211, in wrapper\n",
      "    return func(*args, **kwargs)\n",
      "           ^^^^^^^^^^^^^^^^^^^^^\n",
      "  File \"C:\\ProgramData\\anaconda3\\Lib\\site-packages\\pandas\\core\\generic.py\", line 3720, in to_csv\n",
      "    return DataFrameRenderer(formatter).to_csv(\n",
      "           ^^^^^^^^^^^^^^^^^^^^^^^^^^^^^^^^^^^^\n",
      "  File \"C:\\ProgramData\\anaconda3\\Lib\\site-packages\\pandas\\util\\_decorators.py\", line 211, in wrapper\n",
      "    return func(*args, **kwargs)\n",
      "           ^^^^^^^^^^^^^^^^^^^^^\n",
      "  File \"C:\\ProgramData\\anaconda3\\Lib\\site-packages\\pandas\\io\\formats\\format.py\", line 1189, in to_csv\n",
      "    csv_formatter.save()\n",
      "  File \"C:\\ProgramData\\anaconda3\\Lib\\site-packages\\pandas\\io\\formats\\csvs.py\", line 241, in save\n",
      "    with get_handle(\n",
      "  File \"C:\\ProgramData\\anaconda3\\Lib\\site-packages\\pandas\\io\\common.py\", line 133, in __exit__\n",
      "    self.close()\n",
      "  File \"C:\\ProgramData\\anaconda3\\Lib\\site-packages\\pandas\\io\\common.py\", line 125, in close\n",
      "    handle.close()\n",
      "OSError: [Errno 28] No space left on device\n",
      "\n",
      "Set the environment variable HYDRA_FULL_ERROR=1 for a complete stack trace.\n"
     ]
    },
    {
     "name": "stdout",
     "output_type": "stream",
     "text": [
      "\n",
      "  audio_extension: pcm\n",
      "  sample_rate: 16000\n",
      "  frame_length: 20\n",
      "  frame_shift: 10\n",
      "  normalize: true\n",
      "  del_silence: true\n",
      "  feature_extract_by: kaldi\n",
      "  time_mask_num: 4\n",
      "  freq_mask_num: 2\n",
      "  spec_augment: true\n",
      "  input_reverse: false\n",
      "  transform_method: fbank\n",
      "  n_mels: 80\n",
      "  freq_mask_para: 18\n",
      "model:\n",
      "  architecture: deepspeech2\n",
      "  teacher_forcing_ratio: 1.0\n",
      "  teacher_forcing_step: 0.0\n",
      "  min_teacher_forcing_ratio: 1.0\n",
      "  dropout: 0.3\n",
      "  bidirectional: false\n",
      "  joint_ctc_attention: false\n",
      "  max_len: 400\n",
      "  use_bidirectional: true\n",
      "  rnn_type: gru\n",
      "  hidden_dim: 1024\n",
      "  activation: hardtanh\n",
      "  num_encoder_layers: 3\n",
      "train:\n",
      "  dataset: kspon\n",
      "  dataset_path: C:/Users/STT/data\n",
      "  transcripts_path: ../../../data/transcripts.txt\n",
      "  output_unit: character\n",
      "  batch_size: 32\n",
      "  save_result_every: 1000\n",
      "  checkpoint_every: 5000\n",
      "  print_every: 10\n",
      "  mode: train\n",
      "  num_workers: 4\n",
      "  use_cuda: true\n",
      "  num_threads: 2\n",
      "  init_lr_scale: 0.01\n",
      "  final_lr_scale: 0.05\n",
      "  max_grad_norm: 400\n",
      "  weight_decay: 1.0e-05\n",
      "  total_steps: 200000\n",
      "  seed: 777\n",
      "  resume: false\n",
      "  optimizer: adam\n",
      "  init_lr: 1.0e-06\n",
      "  final_lr: 1.0e-06\n",
      "  peak_lr: 0.0001\n",
      "  warmup_steps: 400\n",
      "  num_epochs: 70\n",
      "  reduction: mean\n",
      "  lr_scheduler: tri_stage_lr_scheduler\n",
      "\n",
      "[2023-07-25 16:40:10,189][kospeech.utils][INFO] - Operating System : Windows 10\n",
      "[2023-07-25 16:40:10,189][kospeech.utils][INFO] - Processor : Intel64 Family 6 Model 151 Stepping 2, GenuineIntel\n",
      "[2023-07-25 16:40:10,191][kospeech.utils][INFO] - device : NVIDIA GeForce RTX 3060 Ti\n",
      "[2023-07-25 16:40:10,191][kospeech.utils][INFO] - CUDA is available : True\n",
      "[2023-07-25 16:40:10,191][kospeech.utils][INFO] - CUDA version : 11.8\n",
      "[2023-07-25 16:40:10,191][kospeech.utils][INFO] - PyTorch version : 2.0.1\n",
      "[2023-07-25 16:40:10,279][kospeech.utils][INFO] - split dataset start !!\n",
      "[2023-07-25 16:40:10,807][kospeech.utils][INFO] - Applying Spec Augmentation...\n",
      "[2023-07-25 16:40:10,808][kospeech.utils][INFO] - Applying Spec Augmentation...\n",
      "[2023-07-25 16:40:10,809][kospeech.utils][INFO] - Applying Spec Augmentation...\n",
      "[2023-07-25 16:40:10,810][kospeech.utils][INFO] - Applying Spec Augmentation...\n",
      "[2023-07-25 16:40:11,095][kospeech.utils][INFO] - split dataset complete !!\n",
      "DataParallel(\n",
      "  (module): DeepSpeech2(\n",
      "    (conv): DeepSpeech2Extractor(\n",
      "      (activation): Hardtanh(min_val=0, max_val=20, inplace=True)\n",
      "      (conv): MaskCNN(\n",
      "        (sequential): Sequential(\n",
      "          (0): Conv2d(1, 32, kernel_size=(41, 11), stride=(2, 2), padding=(20, 5), bias=False)\n",
      "          (1): BatchNorm2d(32, eps=1e-05, momentum=0.1, affine=True, track_running_stats=True)\n",
      "          (2): Hardtanh(min_val=0, max_val=20, inplace=True)\n",
      "          (3): Conv2d(32, 32, kernel_size=(21, 11), stride=(2, 1), padding=(10, 5), bias=False)\n",
      "          (4): BatchNorm2d(32, eps=1e-05, momentum=0.1, affine=True, track_running_stats=True)\n",
      "          (5): Hardtanh(min_val=0, max_val=20, inplace=True)\n",
      "        )\n",
      "      )\n",
      "    )\n",
      "    (rnn_layers): ModuleList(\n",
      "      (0): BNReluRNN(\n",
      "        (batch_norm): BatchNorm1d(640, eps=1e-05, momentum=0.1, affine=True, track_running_stats=True)\n",
      "        (rnn): GRU(640, 1024, batch_first=True, dropout=0.3, bidirectional=True)\n",
      "      )\n",
      "      (1-2): 2 x BNReluRNN(\n",
      "        (batch_norm): BatchNorm1d(2048, eps=1e-05, momentum=0.1, affine=True, track_running_stats=True)\n",
      "        (rnn): GRU(2048, 1024, batch_first=True, dropout=0.3, bidirectional=True)\n",
      "      )\n",
      "    )\n",
      "    (fc): Sequential(\n",
      "      (0): LayerNorm((2048,), eps=1e-05, elementwise_affine=True)\n",
      "      (1): Linear(\n",
      "        (linear): Linear(in_features=2048, out_features=2001, bias=False)\n",
      "      )\n",
      "    )\n",
      "  )\n",
      ")\n",
      "[2023-07-25 16:40:17,182][kospeech.utils][INFO] - start\n",
      "[2023-07-25 16:40:17,182][kospeech.utils][INFO] - Epoch 0 start\n",
      "[2023-07-25 16:40:25,333][kospeech.utils][INFO] - save checkpoints\n",
      "C:\\Users\\STT\\kospeech-latest\\kospeech-latest\\outputs\\2023-07-25\\16-40-10\\2023_07_25_16_40_23-trainer_states.pt\n",
      "C:\\Users\\STT\\kospeech-latest\\kospeech-latest\\outputs\\2023-07-25\\16-40-10\\2023_07_25_16_40_23-model.pt\n",
      "[2023-07-25 16:40:25,333][kospeech.utils][INFO] - train() completed\n",
      "[2023-07-25 16:40:27,269][kospeech.utils][INFO] - save checkpoints\n",
      "C:\\Users\\STT\\kospeech-latest\\kospeech-latest\\outputs\\2023-07-25\\16-40-10\\2023_07_25_16_40_25-trainer_states.pt\n",
      "C:\\Users\\STT\\kospeech-latest\\kospeech-latest\\outputs\\2023-07-25\\16-40-10\\2023_07_25_16_40_25-model.pt\n",
      "[2023-07-25 16:40:27,269][kospeech.utils][INFO] - Epoch 0 (Training) Loss 0.0097 CER 10.7453\n",
      "[2023-07-25 16:40:27,270][kospeech.utils][INFO] - validate() start\n"
     ]
    }
   ],
   "source": [
    "%cd C:/Users/STT/kospeech-latest/kospeech-latest\n",
    "!python C:/Users/STT/kospeech-latest/kospeech-latest/bin/main.py model=ds2 train=ds2_train train.dataset_path=\"C:/Users/STT/data\" "
   ]
  },
  {
   "cell_type": "code",
   "execution_count": 16,
   "id": "b2153a51",
   "metadata": {},
   "outputs": [
    {
     "name": "stdout",
     "output_type": "stream",
     "text": [
      "C:\\Users\\STT\\kospeech-latest\\kospeech-latest\n"
     ]
    }
   ],
   "source": [
    "%cd C:\\Users\\STT\\kospeech-latest\\kospeech-latest"
   ]
  },
  {
   "cell_type": "code",
   "execution_count": 6,
   "id": "f602727e",
   "metadata": {},
   "outputs": [
    {
     "name": "stdout",
     "output_type": "stream",
     "text": [
      "Collecting levenshtein\n",
      "  Using cached Levenshtein-0.21.1-cp311-cp311-win_amd64.whl (101 kB)\n",
      "Collecting rapidfuzz<4.0.0,>=2.3.0 (from levenshtein)\n",
      "  Using cached rapidfuzz-3.1.2-cp311-cp311-win_amd64.whl (1.8 MB)\n",
      "Installing collected packages: rapidfuzz, levenshtein\n",
      "Successfully installed levenshtein-0.21.1 rapidfuzz-3.1.2\n",
      "Note: you may need to restart the kernel to use updated packages.\n"
     ]
    }
   ],
   "source": [
    "pip install levenshtein"
   ]
  },
  {
   "cell_type": "code",
   "execution_count": 17,
   "id": "a25fe917",
   "metadata": {},
   "outputs": [],
   "source": [
    "import tqdm"
   ]
  },
  {
   "cell_type": "code",
   "execution_count": 28,
   "id": "3bb7b64b",
   "metadata": {
    "scrolled": false
   },
   "outputs": [
    {
     "name": "stdout",
     "output_type": "stream",
     "text": [
      "C:\\Users\\STT\\kospeech-latest\\kospeech-latest\n",
      "['끓끓끓끓끓겟겟겟겟겟겟겟겟겟겟짓짓짓짓짓짓짓짓짓짓짓짓딛딛딛딛딛딛딛딛딛딛푸푸푸겟겟겟겟겟겟겟겟겟세세겟겟겟겟겟겟겟딛딛딛딛겟겟겟겟겟겟겟겟겟겟겟겟겟겟겟겟겟겟겟겟겟겟겟겟겟겟겟겟겟겟겟겟겟겟겟겟겟겟겟겟겟겟']\n"
     ]
    }
   ],
   "source": [
    "%cd C:/Users/STT/kospeech-latest/kospeech-latest\n",
    "!python C:/Users/STT/kospeech-latest/kospeech-latest/bin/inference.py --model_path C:\\Users\\STT\\kospeech-latest\\kospeech-latest/model.pt --audio_path C:/Users/STT/data/test/KsponSpeech_000001.pcm --device cpu"
   ]
  },
  {
   "cell_type": "code",
   "execution_count": null,
   "id": "22262c1b",
   "metadata": {},
   "outputs": [],
   "source": []
  }
 ],
 "metadata": {
  "celltoolbar": "Edit Metadata",
  "kernelspec": {
   "display_name": "Python 3 (ipykernel)",
   "language": "python",
   "name": "python3"
  },
  "language_info": {
   "codemirror_mode": {
    "name": "ipython",
    "version": 3
   },
   "file_extension": ".py",
   "mimetype": "text/x-python",
   "name": "python",
   "nbconvert_exporter": "python",
   "pygments_lexer": "ipython3",
   "version": "3.11.3"
  }
 },
 "nbformat": 4,
 "nbformat_minor": 5
}
